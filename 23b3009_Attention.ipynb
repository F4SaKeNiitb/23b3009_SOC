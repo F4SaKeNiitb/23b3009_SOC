{
  "cells": [
    {
      "cell_type": "code",
      "execution_count": null,
      "metadata": {
        "colab": {
          "base_uri": "https://localhost:8080/"
        },
        "id": "fHUTzjVtboaY",
        "outputId": "3c65c0fe-d6d5-4549-f01a-851e70a446b9"
      },
      "outputs": [
        {
          "name": "stdout",
          "output_type": "stream",
          "text": [
            "Requirement already satisfied: tensorflow in /usr/local/lib/python3.10/dist-packages (2.15.0)\n",
            "Requirement already satisfied: numpy in /usr/local/lib/python3.10/dist-packages (1.25.2)\n",
            "Requirement already satisfied: pandas in /usr/local/lib/python3.10/dist-packages (2.0.3)\n",
            "Requirement already satisfied: yfinance in /usr/local/lib/python3.10/dist-packages (0.2.41)\n",
            "Requirement already satisfied: absl-py>=1.0.0 in /usr/local/lib/python3.10/dist-packages (from tensorflow) (1.4.0)\n",
            "Requirement already satisfied: astunparse>=1.6.0 in /usr/local/lib/python3.10/dist-packages (from tensorflow) (1.6.3)\n",
            "Requirement already satisfied: flatbuffers>=23.5.26 in /usr/local/lib/python3.10/dist-packages (from tensorflow) (24.3.25)\n",
            "Requirement already satisfied: gast!=0.5.0,!=0.5.1,!=0.5.2,>=0.2.1 in /usr/local/lib/python3.10/dist-packages (from tensorflow) (0.6.0)\n",
            "Requirement already satisfied: google-pasta>=0.1.1 in /usr/local/lib/python3.10/dist-packages (from tensorflow) (0.2.0)\n",
            "Requirement already satisfied: h5py>=2.9.0 in /usr/local/lib/python3.10/dist-packages (from tensorflow) (3.9.0)\n",
            "Requirement already satisfied: libclang>=13.0.0 in /usr/local/lib/python3.10/dist-packages (from tensorflow) (18.1.1)\n",
            "Requirement already satisfied: ml-dtypes~=0.2.0 in /usr/local/lib/python3.10/dist-packages (from tensorflow) (0.2.0)\n",
            "Requirement already satisfied: opt-einsum>=2.3.2 in /usr/local/lib/python3.10/dist-packages (from tensorflow) (3.3.0)\n",
            "Requirement already satisfied: packaging in /usr/local/lib/python3.10/dist-packages (from tensorflow) (24.1)\n",
            "Requirement already satisfied: protobuf!=4.21.0,!=4.21.1,!=4.21.2,!=4.21.3,!=4.21.4,!=4.21.5,<5.0.0dev,>=3.20.3 in /usr/local/lib/python3.10/dist-packages (from tensorflow) (3.20.3)\n",
            "Requirement already satisfied: setuptools in /usr/local/lib/python3.10/dist-packages (from tensorflow) (71.0.4)\n",
            "Requirement already satisfied: six>=1.12.0 in /usr/local/lib/python3.10/dist-packages (from tensorflow) (1.16.0)\n",
            "Requirement already satisfied: termcolor>=1.1.0 in /usr/local/lib/python3.10/dist-packages (from tensorflow) (2.4.0)\n",
            "Requirement already satisfied: typing-extensions>=3.6.6 in /usr/local/lib/python3.10/dist-packages (from tensorflow) (4.12.2)\n",
            "Requirement already satisfied: wrapt<1.15,>=1.11.0 in /usr/local/lib/python3.10/dist-packages (from tensorflow) (1.14.1)\n",
            "Requirement already satisfied: tensorflow-io-gcs-filesystem>=0.23.1 in /usr/local/lib/python3.10/dist-packages (from tensorflow) (0.37.1)\n",
            "Requirement already satisfied: grpcio<2.0,>=1.24.3 in /usr/local/lib/python3.10/dist-packages (from tensorflow) (1.64.1)\n",
            "Requirement already satisfied: tensorboard<2.16,>=2.15 in /usr/local/lib/python3.10/dist-packages (from tensorflow) (2.15.2)\n",
            "Requirement already satisfied: tensorflow-estimator<2.16,>=2.15.0 in /usr/local/lib/python3.10/dist-packages (from tensorflow) (2.15.0)\n",
            "Requirement already satisfied: keras<2.16,>=2.15.0 in /usr/local/lib/python3.10/dist-packages (from tensorflow) (2.15.0)\n",
            "Requirement already satisfied: python-dateutil>=2.8.2 in /usr/local/lib/python3.10/dist-packages (from pandas) (2.8.2)\n",
            "Requirement already satisfied: pytz>=2020.1 in /usr/local/lib/python3.10/dist-packages (from pandas) (2023.4)\n",
            "Requirement already satisfied: tzdata>=2022.1 in /usr/local/lib/python3.10/dist-packages (from pandas) (2024.1)\n",
            "Requirement already satisfied: requests>=2.31 in /usr/local/lib/python3.10/dist-packages (from yfinance) (2.31.0)\n",
            "Requirement already satisfied: multitasking>=0.0.7 in /usr/local/lib/python3.10/dist-packages (from yfinance) (0.0.11)\n",
            "Requirement already satisfied: lxml>=4.9.1 in /usr/local/lib/python3.10/dist-packages (from yfinance) (4.9.4)\n",
            "Requirement already satisfied: platformdirs>=2.0.0 in /usr/local/lib/python3.10/dist-packages (from yfinance) (4.2.2)\n",
            "Requirement already satisfied: frozendict>=2.3.4 in /usr/local/lib/python3.10/dist-packages (from yfinance) (2.4.4)\n",
            "Requirement already satisfied: peewee>=3.16.2 in /usr/local/lib/python3.10/dist-packages (from yfinance) (3.17.6)\n",
            "Requirement already satisfied: beautifulsoup4>=4.11.1 in /usr/local/lib/python3.10/dist-packages (from yfinance) (4.12.3)\n",
            "Requirement already satisfied: html5lib>=1.1 in /usr/local/lib/python3.10/dist-packages (from yfinance) (1.1)\n",
            "Requirement already satisfied: wheel<1.0,>=0.23.0 in /usr/local/lib/python3.10/dist-packages (from astunparse>=1.6.0->tensorflow) (0.43.0)\n",
            "Requirement already satisfied: soupsieve>1.2 in /usr/local/lib/python3.10/dist-packages (from beautifulsoup4>=4.11.1->yfinance) (2.5)\n",
            "Requirement already satisfied: webencodings in /usr/local/lib/python3.10/dist-packages (from html5lib>=1.1->yfinance) (0.5.1)\n",
            "Requirement already satisfied: charset-normalizer<4,>=2 in /usr/local/lib/python3.10/dist-packages (from requests>=2.31->yfinance) (3.3.2)\n",
            "Requirement already satisfied: idna<4,>=2.5 in /usr/local/lib/python3.10/dist-packages (from requests>=2.31->yfinance) (3.7)\n",
            "Requirement already satisfied: urllib3<3,>=1.21.1 in /usr/local/lib/python3.10/dist-packages (from requests>=2.31->yfinance) (2.0.7)\n",
            "Requirement already satisfied: certifi>=2017.4.17 in /usr/local/lib/python3.10/dist-packages (from requests>=2.31->yfinance) (2024.7.4)\n",
            "Requirement already satisfied: google-auth<3,>=1.6.3 in /usr/local/lib/python3.10/dist-packages (from tensorboard<2.16,>=2.15->tensorflow) (2.27.0)\n",
            "Requirement already satisfied: google-auth-oauthlib<2,>=0.5 in /usr/local/lib/python3.10/dist-packages (from tensorboard<2.16,>=2.15->tensorflow) (1.2.1)\n",
            "Requirement already satisfied: markdown>=2.6.8 in /usr/local/lib/python3.10/dist-packages (from tensorboard<2.16,>=2.15->tensorflow) (3.6)\n",
            "Requirement already satisfied: tensorboard-data-server<0.8.0,>=0.7.0 in /usr/local/lib/python3.10/dist-packages (from tensorboard<2.16,>=2.15->tensorflow) (0.7.2)\n",
            "Requirement already satisfied: werkzeug>=1.0.1 in /usr/local/lib/python3.10/dist-packages (from tensorboard<2.16,>=2.15->tensorflow) (3.0.3)\n",
            "Requirement already satisfied: cachetools<6.0,>=2.0.0 in /usr/local/lib/python3.10/dist-packages (from google-auth<3,>=1.6.3->tensorboard<2.16,>=2.15->tensorflow) (5.4.0)\n",
            "Requirement already satisfied: pyasn1-modules>=0.2.1 in /usr/local/lib/python3.10/dist-packages (from google-auth<3,>=1.6.3->tensorboard<2.16,>=2.15->tensorflow) (0.4.0)\n",
            "Requirement already satisfied: rsa<5,>=3.1.4 in /usr/local/lib/python3.10/dist-packages (from google-auth<3,>=1.6.3->tensorboard<2.16,>=2.15->tensorflow) (4.9)\n",
            "Requirement already satisfied: requests-oauthlib>=0.7.0 in /usr/local/lib/python3.10/dist-packages (from google-auth-oauthlib<2,>=0.5->tensorboard<2.16,>=2.15->tensorflow) (1.3.1)\n",
            "Requirement already satisfied: MarkupSafe>=2.1.1 in /usr/local/lib/python3.10/dist-packages (from werkzeug>=1.0.1->tensorboard<2.16,>=2.15->tensorflow) (2.1.5)\n",
            "Requirement already satisfied: pyasn1<0.7.0,>=0.4.6 in /usr/local/lib/python3.10/dist-packages (from pyasn1-modules>=0.2.1->google-auth<3,>=1.6.3->tensorboard<2.16,>=2.15->tensorflow) (0.6.0)\n",
            "Requirement already satisfied: oauthlib>=3.0.0 in /usr/local/lib/python3.10/dist-packages (from requests-oauthlib>=0.7.0->google-auth-oauthlib<2,>=0.5->tensorboard<2.16,>=2.15->tensorflow) (3.2.2)\n"
          ]
        }
      ],
      "source": [
        "!pip install tensorflow numpy pandas yfinance"
      ]
    },
    {
      "cell_type": "code",
      "execution_count": null,
      "metadata": {
        "colab": {
          "base_uri": "https://localhost:8080/"
        },
        "id": "Sj1N8kWQbzp3",
        "outputId": "e5585024-cdfb-4b3e-bd67-f29030426183"
      },
      "outputs": [
        {
          "name": "stderr",
          "output_type": "stream",
          "text": [
            "\r[*********************100%%**********************]  1 of 1 completed\n"
          ]
        }
      ],
      "source": [
        "import yfinance as yf\n",
        "import pandas as pd\n",
        "import numpy as np\n",
        "from sklearn.preprocessing import MinMaxScaler\n",
        "\n",
        "# Download historical stock data\n",
        "ticker = 'ADANIENSOL.NS'\n",
        "data = yf.download(ticker)\n",
        "prices = data['Close'].values\n",
        "\n",
        "# Normalize the data\n",
        "scaler = MinMaxScaler()\n",
        "prices = scaler.fit_transform(prices.reshape(-1, 1))\n",
        "\n",
        "# Prepare sequences for the Transformer model\n",
        "def create_sequences(data, seq_length):\n",
        "    X, y = [], []\n",
        "    for i in range(len(data) - seq_length):\n",
        "        X.append(data[i:i + seq_length])\n",
        "        y.append(data[i + seq_length])\n",
        "    return np.array(X), np.array(y)\n",
        "\n",
        "seq_length = 10  \n",
        "X, y = create_sequences(prices, seq_length)\n",
        "\n",
        "# Split the data into training and test sets\n",
        "train_size = int(len(X) * 0.8)\n",
        "X_train, X_test = X[:train_size], X[train_size:]\n",
        "y_train, y_test = y[:train_size], y[train_size:]\n",
        "\n",
        "# Reshape X for the Transformer\n",
        "X_train = X_train.reshape((X_train.shape[0], X_train.shape[1], 1))\n",
        "X_test = X_test.reshape((X_test.shape[0], X_test.shape[1], 1))"
      ]
    },
    {
      "cell_type": "code",
      "execution_count": null,
      "metadata": {
        "colab": {
          "base_uri": "https://localhost:8080/"
        },
        "id": "wKKZfVxIb2wq",
        "outputId": "55d96bf4-ff8e-4929-bac6-986562309f5c"
      },
      "outputs": [
        {
          "name": "stdout",
          "output_type": "stream",
          "text": [
            "Model: \"model_2\"\n",
            "__________________________________________________________________________________________________\n",
            " Layer (type)                Output Shape                 Param #   Connected to                  \n",
            "==================================================================================================\n",
            " input_3 (InputLayer)        [(None, 10, 1)]              0         []                            \n",
            "                                                                                                  \n",
            " token_and_position_embeddi  (None, 10, 64)               768       ['input_3[0][0]']             \n",
            " ng_2 (TokenAndPositionEmbe                                                                       \n",
            " dding)                                                                                           \n",
            "                                                                                                  \n",
            " transformer_block_2 (Trans  (None, 10, 64)               74944     ['token_and_position_embedding\n",
            " formerBlock)                                                       _2[0][0]',                    \n",
            "                                                                     'transformer_block_2[0][0]'] \n",
            "                                                                                                  \n",
            " global_average_pooling1d_2  (None, 64)                   0         ['transformer_block_2[1][0]'] \n",
            "  (GlobalAveragePooling1D)                                                                        \n",
            "                                                                                                  \n",
            " dropout_10 (Dropout)        (None, 64)                   0         ['global_average_pooling1d_2[0\n",
            "                                                                    ][0]']                        \n",
            "                                                                                                  \n",
            " dense_13 (Dense)            (None, 20)                   1300      ['dropout_10[0][0]']          \n",
            "                                                                                                  \n",
            " dropout_11 (Dropout)        (None, 20)                   0         ['dense_13[0][0]']            \n",
            "                                                                                                  \n",
            " dense_14 (Dense)            (None, 1)                    21        ['dropout_11[0][0]']          \n",
            "                                                                                                  \n",
            "==================================================================================================\n",
            "Total params: 77033 (300.91 KB)\n",
            "Trainable params: 77033 (300.91 KB)\n",
            "Non-trainable params: 0 (0.00 Byte)\n",
            "__________________________________________________________________________________________________\n"
          ]
        }
      ],
      "source": [
        "import tensorflow as tf\n",
        "from tensorflow.keras.models import Model\n",
        "from tensorflow.keras.layers import Input, Dense, LayerNormalization, Dropout, MultiHeadAttention\n",
        "from tensorflow.keras.optimizers import Adam\n",
        "\n",
        "class TransformerBlock(tf.keras.layers.Layer):\n",
        "    def __init__(self, embed_dim, num_heads, ff_dim, rate=0.1):\n",
        "        super(TransformerBlock, self).__init__()\n",
        "        self.att = MultiHeadAttention(num_heads=num_heads, key_dim=embed_dim)\n",
        "        self.ffn = tf.keras.Sequential(\n",
        "            [Dense(ff_dim, activation=\"relu\"), Dense(embed_dim),]\n",
        "        )\n",
        "        self.layernorm1 = LayerNormalization(epsilon=1e-6)\n",
        "        self.layernorm2 = LayerNormalization(epsilon=1e-6)\n",
        "        self.dropout1 = Dropout(rate)\n",
        "        self.dropout2 = Dropout(rate)\n",
        "\n",
        "    def call(self, inputs, training):\n",
        "        attn_output = self.att(inputs, inputs)\n",
        "        attn_output = self.dropout1(attn_output, training=training)\n",
        "        out1 = self.layernorm1(inputs + attn_output)\n",
        "        ffn_output = self.ffn(out1)\n",
        "        ffn_output = self.dropout2(ffn_output, training=training)\n",
        "        return self.layernorm2(out1 + ffn_output)\n",
        "\n",
        "class TokenAndPositionEmbedding(tf.keras.layers.Layer):\n",
        "    def __init__(self, maxlen, embed_dim):\n",
        "        super(TokenAndPositionEmbedding, self).__init__()\n",
        "        self.pos_emb = tf.keras.layers.Embedding(input_dim=maxlen, output_dim=embed_dim)\n",
        "        self.time_emb = tf.keras.layers.TimeDistributed(tf.keras.layers.Dense(embed_dim))\n",
        "\n",
        "    def call(self, x):\n",
        "        maxlen = tf.shape(x)[-2]\n",
        "        positions = tf.range(start=0, limit=maxlen, delta=1)\n",
        "        positions = self.pos_emb(positions)\n",
        "        x = self.time_emb(x)\n",
        "        return x + positions\n",
        "\n",
        "def create_transformer_model(seq_length, feature_dim, embed_dim, num_heads, ff_dim):\n",
        "    inputs = Input(shape=(seq_length, feature_dim))\n",
        "    embedding_layer = TokenAndPositionEmbedding(seq_length, embed_dim)\n",
        "    x = embedding_layer(inputs)\n",
        "    transformer_block = TransformerBlock(embed_dim, num_heads, ff_dim)\n",
        "    x = transformer_block(x)\n",
        "    x = transformer_block(x)  # Stack multiple Transformer blocks\n",
        "    x = tf.keras.layers.GlobalAveragePooling1D()(x)\n",
        "    x = Dropout(0.1)(x)\n",
        "    x = Dense(20, activation=\"relu\")(x)\n",
        "    x = Dropout(0.1)(x)\n",
        "    outputs = Dense(1)(x)\n",
        "\n",
        "    model = Model(inputs=inputs, outputs=outputs)\n",
        "    return model\n",
        "\n",
        "# Model hyperparameters\n",
        "embed_dim = 64  # Embedding size for each token\n",
        "num_heads = 4  # Number of attention heads\n",
        "ff_dim = 64  # Hidden layer size in feed forward network inside transformer\n",
        "\n",
        "model = create_transformer_model(seq_length, 1, embed_dim, num_heads, ff_dim)\n",
        "model.compile(optimizer=Adam(learning_rate=0.001), loss='mse')\n",
        "model.summary()"
      ]
    },
    {
      "cell_type": "code",
      "execution_count": null,
      "metadata": {
        "colab": {
          "base_uri": "https://localhost:8080/"
        },
        "id": "rcSoNFjgb5D2",
        "outputId": "9c3c8ca7-e27e-434a-d2e9-8039dcfd57cd"
      },
      "outputs": [
        {
          "name": "stdout",
          "output_type": "stream",
          "text": [
            "Epoch 1/50\n",
            "6/6 [==============================] - 9s 310ms/step - loss: 0.3767 - val_loss: 0.0131\n",
            "Epoch 2/50\n",
            "6/6 [==============================] - 0s 58ms/step - loss: 0.0999 - val_loss: 0.0805\n",
            "Epoch 3/50\n",
            "6/6 [==============================] - 0s 76ms/step - loss: 0.0993 - val_loss: 0.0175\n",
            "Epoch 4/50\n",
            "6/6 [==============================] - 0s 67ms/step - loss: 0.0798 - val_loss: 0.0212\n",
            "Epoch 5/50\n",
            "6/6 [==============================] - 0s 58ms/step - loss: 0.0651 - val_loss: 0.0246\n",
            "Epoch 6/50\n",
            "6/6 [==============================] - 0s 55ms/step - loss: 0.0660 - val_loss: 0.0087\n",
            "Epoch 7/50\n",
            "6/6 [==============================] - 0s 62ms/step - loss: 0.0555 - val_loss: 0.0102\n",
            "Epoch 8/50\n",
            "6/6 [==============================] - 0s 68ms/step - loss: 0.0571 - val_loss: 0.0217\n",
            "Epoch 9/50\n",
            "6/6 [==============================] - 0s 67ms/step - loss: 0.0408 - val_loss: 0.0116\n",
            "Epoch 10/50\n",
            "6/6 [==============================] - 0s 56ms/step - loss: 0.0430 - val_loss: 0.0091\n",
            "Epoch 11/50\n",
            "6/6 [==============================] - 0s 74ms/step - loss: 0.0437 - val_loss: 0.0073\n",
            "Epoch 12/50\n",
            "6/6 [==============================] - 0s 63ms/step - loss: 0.0325 - val_loss: 0.0074\n",
            "Epoch 13/50\n",
            "6/6 [==============================] - 0s 53ms/step - loss: 0.0355 - val_loss: 0.0122\n",
            "Epoch 14/50\n",
            "6/6 [==============================] - 0s 67ms/step - loss: 0.0301 - val_loss: 0.0335\n",
            "Epoch 15/50\n",
            "6/6 [==============================] - 0s 56ms/step - loss: 0.0346 - val_loss: 0.0096\n",
            "Epoch 16/50\n",
            "6/6 [==============================] - 1s 110ms/step - loss: 0.0335 - val_loss: 0.0160\n",
            "Epoch 17/50\n",
            "6/6 [==============================] - 1s 130ms/step - loss: 0.0275 - val_loss: 0.0068\n",
            "Epoch 18/50\n",
            "6/6 [==============================] - 1s 95ms/step - loss: 0.0308 - val_loss: 0.0084\n",
            "Epoch 19/50\n",
            "6/6 [==============================] - 0s 78ms/step - loss: 0.0263 - val_loss: 0.0120\n",
            "Epoch 20/50\n",
            "6/6 [==============================] - 1s 100ms/step - loss: 0.0256 - val_loss: 0.0073\n",
            "Epoch 21/50\n",
            "6/6 [==============================] - 1s 87ms/step - loss: 0.0219 - val_loss: 0.0068\n",
            "Epoch 22/50\n",
            "6/6 [==============================] - 1s 96ms/step - loss: 0.0289 - val_loss: 0.0092\n",
            "Epoch 23/50\n",
            "6/6 [==============================] - 1s 90ms/step - loss: 0.0217 - val_loss: 0.0068\n",
            "Epoch 24/50\n",
            "6/6 [==============================] - 0s 81ms/step - loss: 0.0210 - val_loss: 0.0070\n",
            "Epoch 25/50\n",
            "6/6 [==============================] - 0s 74ms/step - loss: 0.0190 - val_loss: 0.0063\n",
            "Epoch 26/50\n",
            "6/6 [==============================] - 0s 74ms/step - loss: 0.0193 - val_loss: 0.0067\n",
            "Epoch 27/50\n",
            "6/6 [==============================] - 0s 68ms/step - loss: 0.0231 - val_loss: 0.0100\n",
            "Epoch 28/50\n",
            "6/6 [==============================] - 0s 58ms/step - loss: 0.0183 - val_loss: 0.0062\n",
            "Epoch 29/50\n",
            "6/6 [==============================] - 0s 58ms/step - loss: 0.0181 - val_loss: 0.0056\n",
            "Epoch 30/50\n",
            "6/6 [==============================] - 0s 52ms/step - loss: 0.0201 - val_loss: 0.0067\n",
            "Epoch 31/50\n",
            "6/6 [==============================] - 0s 55ms/step - loss: 0.0230 - val_loss: 0.0060\n",
            "Epoch 32/50\n",
            "6/6 [==============================] - 0s 66ms/step - loss: 0.0181 - val_loss: 0.0056\n",
            "Epoch 33/50\n",
            "6/6 [==============================] - 0s 51ms/step - loss: 0.0200 - val_loss: 0.0054\n",
            "Epoch 34/50\n",
            "6/6 [==============================] - 0s 35ms/step - loss: 0.0154 - val_loss: 0.0058\n",
            "Epoch 35/50\n",
            "6/6 [==============================] - 0s 32ms/step - loss: 0.0208 - val_loss: 0.0050\n",
            "Epoch 36/50\n",
            "6/6 [==============================] - 0s 28ms/step - loss: 0.0165 - val_loss: 0.0056\n",
            "Epoch 37/50\n",
            "6/6 [==============================] - 0s 32ms/step - loss: 0.0165 - val_loss: 0.0061\n",
            "Epoch 38/50\n",
            "6/6 [==============================] - 0s 28ms/step - loss: 0.0133 - val_loss: 0.0064\n",
            "Epoch 39/50\n",
            "6/6 [==============================] - 0s 29ms/step - loss: 0.0138 - val_loss: 0.0053\n",
            "Epoch 40/50\n",
            "6/6 [==============================] - 0s 33ms/step - loss: 0.0133 - val_loss: 0.0062\n",
            "Epoch 41/50\n",
            "6/6 [==============================] - 0s 30ms/step - loss: 0.0155 - val_loss: 0.0051\n",
            "Epoch 42/50\n",
            "6/6 [==============================] - 0s 31ms/step - loss: 0.0181 - val_loss: 0.0052\n",
            "Epoch 43/50\n",
            "6/6 [==============================] - 0s 28ms/step - loss: 0.0157 - val_loss: 0.0050\n",
            "Epoch 44/50\n",
            "6/6 [==============================] - 0s 29ms/step - loss: 0.0153 - val_loss: 0.0048\n",
            "Epoch 45/50\n",
            "6/6 [==============================] - 0s 29ms/step - loss: 0.0177 - val_loss: 0.0069\n",
            "Epoch 46/50\n",
            "6/6 [==============================] - 0s 34ms/step - loss: 0.0166 - val_loss: 0.0048\n",
            "Epoch 47/50\n",
            "6/6 [==============================] - 0s 29ms/step - loss: 0.0125 - val_loss: 0.0048\n",
            "Epoch 48/50\n",
            "6/6 [==============================] - 0s 31ms/step - loss: 0.0123 - val_loss: 0.0064\n",
            "Epoch 49/50\n",
            "6/6 [==============================] - 0s 30ms/step - loss: 0.0189 - val_loss: 0.0111\n",
            "Epoch 50/50\n",
            "6/6 [==============================] - 0s 29ms/step - loss: 0.0201 - val_loss: 0.0050\n"
          ]
        }
      ],
      "source": [
        "history = model.fit(X_train, y_train, epochs=50, batch_size=32, validation_data=(X_test, y_test))"
      ]
    },
    {
      "cell_type": "code",
      "execution_count": null,
      "metadata": {
        "colab": {
          "base_uri": "https://localhost:8080/"
        },
        "id": "mI5CMe4wb877",
        "outputId": "6905f0af-2410-47cb-d678-3c94c499ba50"
      },
      "outputs": [
        {
          "name": "stdout",
          "output_type": "stream",
          "text": [
            "1/1 [==============================] - 0s 362ms/step\n",
            "1/1 [==============================] - 0s 22ms/step\n",
            "1/1 [==============================] - 0s 21ms/step\n",
            "1/1 [==============================] - 0s 22ms/step\n",
            "1/1 [==============================] - 0s 25ms/step\n",
            "1/1 [==============================] - 0s 34ms/step\n",
            "1/1 [==============================] - 0s 39ms/step\n",
            "1/1 [==============================] - 0s 55ms/step\n"
          ]
        }
      ],
      "source": [
        "# Function to predict future steps\n",
        "def predict_future_steps(model, data, steps):\n",
        "    predictions = []\n",
        "    input_seq = data[-seq_length:].reshape((1, seq_length, 1))\n",
        "    for _ in range(steps):\n",
        "        pred = model.predict(input_seq)\n",
        "        predictions.append(pred[0, 0])\n",
        "        input_seq = np.append(input_seq[:, 1:, :], pred.reshape(1, 1, 1), axis=1)\n",
        "    return np.array(predictions)\n",
        "\n",
        "# Predict the next day and week prices\n",
        "next_1d_pred = predict_future_steps(model, prices, 1)\n",
        "next_1w_pred = predict_future_steps(model, prices, 7)\n",
        "\n",
        "# Transform the predictions back to the original scale\n",
        "next_1d_pred = scaler.inverse_transform(next_1d_pred.reshape(-1, 1))\n",
        "next_1w_pred = scaler.inverse_transform(next_1w_pred.reshape(-1, 1))"
      ]
    },
    {
      "cell_type": "code",
      "execution_count": null,
      "metadata": {
        "colab": {
          "base_uri": "https://localhost:8080/"
        },
        "id": "ERTcqqUYb_Xr",
        "outputId": "d8d6f5a4-c101-40d8-e131-b136f1937d35"
      },
      "outputs": [
        {
          "name": "stdout",
          "output_type": "stream",
          "text": [
            "1-Day Forecast: [1039.5013]\n",
            "1-Week Forecast: [1039.5013  1031.773   1025.6685  1020.6773  1017.29626 1014.89636\n",
            " 1013.10284]\n"
          ]
        }
      ],
      "source": [
        "print(f'1-Day Forecast: {next_1d_pred.flatten()}')\n",
        "print(f'1-Week Forecast: {next_1w_pred.flatten()}')"
      ]
    }
  ],
  "metadata": {
    "colab": {
      "provenance": []
    },
    "kernelspec": {
      "display_name": "Python 3",
      "name": "python3"
    },
    "language_info": {
      "name": "python"
    }
  },
  "nbformat": 4,
  "nbformat_minor": 0
}
