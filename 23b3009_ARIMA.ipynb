{
  "cells": [
    {
      "cell_type": "code",
      "execution_count": null,
      "metadata": {
        "colab": {
          "base_uri": "https://localhost:8080/"
        },
        "id": "t8OgqHW-OvvV",
        "outputId": "73d5e48c-84de-4d29-ef45-2114aa5d9338"
      },
      "outputs": [
        {
          "name": "stdout",
          "output_type": "stream",
          "text": [
            "Requirement already satisfied: yfinance in /usr/local/lib/python3.10/dist-packages (0.2.41)\n",
            "Requirement already satisfied: statsmodels in /usr/local/lib/python3.10/dist-packages (0.14.2)\n",
            "Requirement already satisfied: pandas>=1.3.0 in /usr/local/lib/python3.10/dist-packages (from yfinance) (2.1.4)\n",
            "Requirement already satisfied: numpy>=1.16.5 in /usr/local/lib/python3.10/dist-packages (from yfinance) (1.26.4)\n",
            "Requirement already satisfied: requests>=2.31 in /usr/local/lib/python3.10/dist-packages (from yfinance) (2.31.0)\n",
            "Requirement already satisfied: multitasking>=0.0.7 in /usr/local/lib/python3.10/dist-packages (from yfinance) (0.0.11)\n",
            "Requirement already satisfied: lxml>=4.9.1 in /usr/local/lib/python3.10/dist-packages (from yfinance) (4.9.4)\n",
            "Requirement already satisfied: platformdirs>=2.0.0 in /usr/local/lib/python3.10/dist-packages (from yfinance) (4.2.2)\n",
            "Requirement already satisfied: pytz>=2022.5 in /usr/local/lib/python3.10/dist-packages (from yfinance) (2024.1)\n",
            "Requirement already satisfied: frozendict>=2.3.4 in /usr/local/lib/python3.10/dist-packages (from yfinance) (2.4.4)\n",
            "Requirement already satisfied: peewee>=3.16.2 in /usr/local/lib/python3.10/dist-packages (from yfinance) (3.17.6)\n",
            "Requirement already satisfied: beautifulsoup4>=4.11.1 in /usr/local/lib/python3.10/dist-packages (from yfinance) (4.12.3)\n",
            "Requirement already satisfied: html5lib>=1.1 in /usr/local/lib/python3.10/dist-packages (from yfinance) (1.1)\n",
            "Requirement already satisfied: scipy!=1.9.2,>=1.8 in /usr/local/lib/python3.10/dist-packages (from statsmodels) (1.13.1)\n",
            "Requirement already satisfied: patsy>=0.5.6 in /usr/local/lib/python3.10/dist-packages (from statsmodels) (0.5.6)\n",
            "Requirement already satisfied: packaging>=21.3 in /usr/local/lib/python3.10/dist-packages (from statsmodels) (24.1)\n",
            "Requirement already satisfied: soupsieve>1.2 in /usr/local/lib/python3.10/dist-packages (from beautifulsoup4>=4.11.1->yfinance) (2.5)\n",
            "Requirement already satisfied: six>=1.9 in /usr/local/lib/python3.10/dist-packages (from html5lib>=1.1->yfinance) (1.16.0)\n",
            "Requirement already satisfied: webencodings in /usr/local/lib/python3.10/dist-packages (from html5lib>=1.1->yfinance) (0.5.1)\n",
            "Requirement already satisfied: python-dateutil>=2.8.2 in /usr/local/lib/python3.10/dist-packages (from pandas>=1.3.0->yfinance) (2.8.2)\n",
            "Requirement already satisfied: tzdata>=2022.1 in /usr/local/lib/python3.10/dist-packages (from pandas>=1.3.0->yfinance) (2024.1)\n",
            "Requirement already satisfied: charset-normalizer<4,>=2 in /usr/local/lib/python3.10/dist-packages (from requests>=2.31->yfinance) (3.3.2)\n",
            "Requirement already satisfied: idna<4,>=2.5 in /usr/local/lib/python3.10/dist-packages (from requests>=2.31->yfinance) (3.7)\n",
            "Requirement already satisfied: urllib3<3,>=1.21.1 in /usr/local/lib/python3.10/dist-packages (from requests>=2.31->yfinance) (2.0.7)\n",
            "Requirement already satisfied: certifi>=2017.4.17 in /usr/local/lib/python3.10/dist-packages (from requests>=2.31->yfinance) (2024.7.4)\n"
          ]
        }
      ],
      "source": [
        "!pip install yfinance statsmodels"
      ]
    },
    {
      "cell_type": "code",
      "execution_count": null,
      "metadata": {
        "colab": {
          "base_uri": "https://localhost:8080/"
        },
        "id": "Hux3Jhi-Oww5",
        "outputId": "a1945c1e-2a5e-4246-ae5f-1ce9cdf54139"
      },
      "outputs": [
        {
          "name": "stderr",
          "output_type": "stream",
          "text": [
            "\r[*********************100%%**********************]  1 of 1 completed\n"
          ]
        }
      ],
      "source": [
        "import yfinance as yf\n",
        "import pandas as pd\n",
        "\n",
        "# Download historical stock data\n",
        "ticker = 'ADANIENSOL.NS'  \n",
        "data = yf.download(ticker)\n",
        "\n",
        "# Use the 'Close' price for modeling\n",
        "prices = data['Close']"
      ]
    },
    {
      "cell_type": "code",
      "execution_count": null,
      "metadata": {
        "id": "QzDPhNE7OyWJ"
      },
      "outputs": [],
      "source": [
        "# Split the data into training and test sets\n",
        "train_size = int(len(prices) * 0.8)\n",
        "train, test = prices[:train_size], prices[train_size:]"
      ]
    },
    {
      "cell_type": "code",
      "execution_count": null,
      "metadata": {
        "colab": {
          "base_uri": "https://localhost:8080/"
        },
        "id": "hMHDIMlwOz-f",
        "outputId": "839fa951-e25c-4234-c7cc-a1e05ec37c21"
      },
      "outputs": [
        {
          "name": "stdout",
          "output_type": "stream",
          "text": [
            "ARIMA(0, 0, 0) MSE=21880.12605800165\n",
            "ARIMA(0, 0, 1) MSE=21711.25367651068\n",
            "ARIMA(0, 0, 2) MSE=21754.223254652672\n",
            "ARIMA(1, 0, 0) MSE=16336.313183612185\n",
            "ARIMA(1, 0, 1) MSE=18335.25614065999\n",
            "ARIMA(1, 0, 2) MSE=17646.238963064963\n",
            "ARIMA(2, 0, 0) MSE=18358.8218443162\n",
            "ARIMA(2, 0, 1) MSE=17852.84346154247\n",
            "ARIMA(2, 0, 2) MSE=17746.34936343994\n",
            "Best ARIMA(1, 0, 0) MSE=16336.313183612185\n"
          ]
        }
      ],
      "source": [
        "from statsmodels.tsa.arima.model import ARIMA\n",
        "import itertools\n",
        "import warnings\n",
        "\n",
        "warnings.filterwarnings(\"ignore\")\n",
        "\n",
        "# Define the p, d, q parameters to take any value between 0 and 2\n",
        "p = d = q = range(0, 3)\n",
        "\n",
        "# Generate all different combinations of p, d and q triplets\n",
        "pdq = list(itertools.product(p, d, q))\n",
        "\n",
        "# Define a function to evaluate an ARIMA model\n",
        "def evaluate_arima_model(train, test, arima_order):\n",
        "    model = ARIMA(train, order=arima_order, trend='ct')\n",
        "    model_fit = model.fit()\n",
        "    predictions = model_fit.forecast(steps=len(test))\n",
        "    loss = mean_squared_error(test, predictions)\n",
        "    return loss\n",
        "\n",
        "# Tune hyperparameters\n",
        "from sklearn.metrics import mean_squared_error\n",
        "\n",
        "best_score, best_cfg = float(\"inf\"), None\n",
        "for param in pdq:\n",
        "    try:\n",
        "        loss = evaluate_arima_model(train, test, param)\n",
        "        if loss < best_score:\n",
        "            best_score, best_cfg = loss, param\n",
        "        print(f'ARIMA{param} MSE={loss}')\n",
        "    except:\n",
        "        continue\n",
        "\n",
        "print(f'Best ARIMA{best_cfg} MSE={best_score}')"
      ]
    },
    {
      "cell_type": "code",
      "execution_count": null,
      "metadata": {
        "id": "k-b-AZUXO2Bi"
      },
      "outputs": [],
      "source": [
        "# Fit the best ARIMA model\n",
        "model = ARIMA(prices, order=best_cfg)\n",
        "model_fit = model.fit()\n",
        "\n",
        "# Forecast for the next 1 day and 1 week\n",
        "forecast_1d = model_fit.forecast(steps=1)\n",
        "forecast_1w = model_fit.forecast(steps=7)"
      ]
    },
    {
      "cell_type": "code",
      "execution_count": null,
      "metadata": {
        "colab": {
          "base_uri": "https://localhost:8080/"
        },
        "id": "8qfp0fBFPbgy",
        "outputId": "4323024d-3189-48eb-9651-5826fa8fcdc2"
      },
      "outputs": [
        {
          "name": "stdout",
          "output_type": "stream",
          "text": [
            "1-Day Forecast: [1119.72947347]\n",
            "1-Week Forecast: [1119.72947347 1114.73983923 1109.92479145 1105.27822137 1100.794234\n",
            " 1096.46714059 1092.29145144]\n"
          ]
        }
      ],
      "source": [
        "print(f'1-Day Forecast: {forecast_1d.values}')\n",
        "print(f'1-Week Forecast: {forecast_1w.values}')"
      ]
    },
    {
      "cell_type": "code",
      "execution_count": null,
      "metadata": {
        "colab": {
          "base_uri": "https://localhost:8080/"
        },
        "id": "wHLCAO2vfcej",
        "outputId": "49a1484e-c0eb-4339-cd9e-0af5011ce26d"
      },
      "outputs": [
        {
          "name": "stdout",
          "output_type": "stream",
          "text": [
            "Test MSE: 1711.4472482835877\n"
          ]
        }
      ],
      "source": [
        "# Evaluate accuracy on the test set\n",
        "test_predictions = model_fit.predict(start=train_size, end=len(prices)-1)\n",
        "\n",
        "# Calculate Mean Squared Error (MSE)\n",
        "mse = mean_squared_error(test, test_predictions)\n",
        "print(f'Test MSE: {mse}')"
      ]
    },
    {
      "cell_type": "code",
      "execution_count": null,
      "metadata": {
        "id": "Lbk37tdnfc4-"
      },
      "outputs": [],
      "source": []
    }
  ],
  "metadata": {
    "colab": {
      "provenance": []
    },
    "kernelspec": {
      "display_name": "Python 3",
      "name": "python3"
    },
    "language_info": {
      "name": "python"
    }
  },
  "nbformat": 4,
  "nbformat_minor": 0
}
