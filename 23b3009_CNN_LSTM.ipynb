{
  "cells": [
    {
      "cell_type": "code",
      "execution_count": null,
      "metadata": {
        "colab": {
          "base_uri": "https://localhost:8080/"
        },
        "id": "OEBIcatRaRB1",
        "outputId": "84ede7e2-6b29-4bd0-8cbd-9935b0f6a2b6"
      },
      "outputs": [
        {
          "name": "stdout",
          "output_type": "stream",
          "text": [
            "Requirement already satisfied: tensorflow in /usr/local/lib/python3.10/dist-packages (2.15.0)\n",
            "Requirement already satisfied: numpy in /usr/local/lib/python3.10/dist-packages (1.26.4)\n",
            "Requirement already satisfied: pandas in /usr/local/lib/python3.10/dist-packages (2.1.4)\n",
            "Requirement already satisfied: yfinance in /usr/local/lib/python3.10/dist-packages (0.2.41)\n",
            "Requirement already satisfied: absl-py>=1.0.0 in /usr/local/lib/python3.10/dist-packages (from tensorflow) (1.4.0)\n",
            "Requirement already satisfied: astunparse>=1.6.0 in /usr/local/lib/python3.10/dist-packages (from tensorflow) (1.6.3)\n",
            "Requirement already satisfied: flatbuffers>=23.5.26 in /usr/local/lib/python3.10/dist-packages (from tensorflow) (24.3.25)\n",
            "Requirement already satisfied: gast!=0.5.0,!=0.5.1,!=0.5.2,>=0.2.1 in /usr/local/lib/python3.10/dist-packages (from tensorflow) (0.6.0)\n",
            "Requirement already satisfied: google-pasta>=0.1.1 in /usr/local/lib/python3.10/dist-packages (from tensorflow) (0.2.0)\n",
            "Requirement already satisfied: h5py>=2.9.0 in /usr/local/lib/python3.10/dist-packages (from tensorflow) (3.11.0)\n",
            "Requirement already satisfied: libclang>=13.0.0 in /usr/local/lib/python3.10/dist-packages (from tensorflow) (18.1.1)\n",
            "Requirement already satisfied: ml-dtypes~=0.2.0 in /usr/local/lib/python3.10/dist-packages (from tensorflow) (0.2.0)\n",
            "Requirement already satisfied: opt-einsum>=2.3.2 in /usr/local/lib/python3.10/dist-packages (from tensorflow) (3.3.0)\n",
            "Requirement already satisfied: packaging in /usr/local/lib/python3.10/dist-packages (from tensorflow) (24.1)\n",
            "Requirement already satisfied: protobuf!=4.21.0,!=4.21.1,!=4.21.2,!=4.21.3,!=4.21.4,!=4.21.5,<5.0.0dev,>=3.20.3 in /usr/local/lib/python3.10/dist-packages (from tensorflow) (3.20.3)\n",
            "Requirement already satisfied: setuptools in /usr/local/lib/python3.10/dist-packages (from tensorflow) (71.0.4)\n",
            "Requirement already satisfied: six>=1.12.0 in /usr/local/lib/python3.10/dist-packages (from tensorflow) (1.16.0)\n",
            "Requirement already satisfied: termcolor>=1.1.0 in /usr/local/lib/python3.10/dist-packages (from tensorflow) (2.4.0)\n",
            "Requirement already satisfied: typing-extensions>=3.6.6 in /usr/local/lib/python3.10/dist-packages (from tensorflow) (4.12.2)\n",
            "Requirement already satisfied: wrapt<1.15,>=1.11.0 in /usr/local/lib/python3.10/dist-packages (from tensorflow) (1.14.1)\n",
            "Requirement already satisfied: tensorflow-io-gcs-filesystem>=0.23.1 in /usr/local/lib/python3.10/dist-packages (from tensorflow) (0.37.1)\n",
            "Requirement already satisfied: grpcio<2.0,>=1.24.3 in /usr/local/lib/python3.10/dist-packages (from tensorflow) (1.64.1)\n",
            "Requirement already satisfied: tensorboard<2.16,>=2.15 in /usr/local/lib/python3.10/dist-packages (from tensorflow) (2.15.2)\n",
            "Requirement already satisfied: tensorflow-estimator<2.16,>=2.15.0 in /usr/local/lib/python3.10/dist-packages (from tensorflow) (2.15.0)\n",
            "Requirement already satisfied: keras<2.16,>=2.15.0 in /usr/local/lib/python3.10/dist-packages (from tensorflow) (2.15.0)\n",
            "Requirement already satisfied: python-dateutil>=2.8.2 in /usr/local/lib/python3.10/dist-packages (from pandas) (2.8.2)\n",
            "Requirement already satisfied: pytz>=2020.1 in /usr/local/lib/python3.10/dist-packages (from pandas) (2024.1)\n",
            "Requirement already satisfied: tzdata>=2022.1 in /usr/local/lib/python3.10/dist-packages (from pandas) (2024.1)\n",
            "Requirement already satisfied: requests>=2.31 in /usr/local/lib/python3.10/dist-packages (from yfinance) (2.31.0)\n",
            "Requirement already satisfied: multitasking>=0.0.7 in /usr/local/lib/python3.10/dist-packages (from yfinance) (0.0.11)\n",
            "Requirement already satisfied: lxml>=4.9.1 in /usr/local/lib/python3.10/dist-packages (from yfinance) (4.9.4)\n",
            "Requirement already satisfied: platformdirs>=2.0.0 in /usr/local/lib/python3.10/dist-packages (from yfinance) (4.2.2)\n",
            "Requirement already satisfied: frozendict>=2.3.4 in /usr/local/lib/python3.10/dist-packages (from yfinance) (2.4.4)\n",
            "Requirement already satisfied: peewee>=3.16.2 in /usr/local/lib/python3.10/dist-packages (from yfinance) (3.17.6)\n",
            "Requirement already satisfied: beautifulsoup4>=4.11.1 in /usr/local/lib/python3.10/dist-packages (from yfinance) (4.12.3)\n",
            "Requirement already satisfied: html5lib>=1.1 in /usr/local/lib/python3.10/dist-packages (from yfinance) (1.1)\n",
            "Requirement already satisfied: wheel<1.0,>=0.23.0 in /usr/local/lib/python3.10/dist-packages (from astunparse>=1.6.0->tensorflow) (0.43.0)\n",
            "Requirement already satisfied: soupsieve>1.2 in /usr/local/lib/python3.10/dist-packages (from beautifulsoup4>=4.11.1->yfinance) (2.5)\n",
            "Requirement already satisfied: webencodings in /usr/local/lib/python3.10/dist-packages (from html5lib>=1.1->yfinance) (0.5.1)\n",
            "Requirement already satisfied: charset-normalizer<4,>=2 in /usr/local/lib/python3.10/dist-packages (from requests>=2.31->yfinance) (3.3.2)\n",
            "Requirement already satisfied: idna<4,>=2.5 in /usr/local/lib/python3.10/dist-packages (from requests>=2.31->yfinance) (3.7)\n",
            "Requirement already satisfied: urllib3<3,>=1.21.1 in /usr/local/lib/python3.10/dist-packages (from requests>=2.31->yfinance) (2.0.7)\n",
            "Requirement already satisfied: certifi>=2017.4.17 in /usr/local/lib/python3.10/dist-packages (from requests>=2.31->yfinance) (2024.7.4)\n",
            "Requirement already satisfied: google-auth<3,>=1.6.3 in /usr/local/lib/python3.10/dist-packages (from tensorboard<2.16,>=2.15->tensorflow) (2.27.0)\n",
            "Requirement already satisfied: google-auth-oauthlib<2,>=0.5 in /usr/local/lib/python3.10/dist-packages (from tensorboard<2.16,>=2.15->tensorflow) (1.2.1)\n",
            "Requirement already satisfied: markdown>=2.6.8 in /usr/local/lib/python3.10/dist-packages (from tensorboard<2.16,>=2.15->tensorflow) (3.6)\n",
            "Requirement already satisfied: tensorboard-data-server<0.8.0,>=0.7.0 in /usr/local/lib/python3.10/dist-packages (from tensorboard<2.16,>=2.15->tensorflow) (0.7.2)\n",
            "Requirement already satisfied: werkzeug>=1.0.1 in /usr/local/lib/python3.10/dist-packages (from tensorboard<2.16,>=2.15->tensorflow) (3.0.3)\n",
            "Requirement already satisfied: cachetools<6.0,>=2.0.0 in /usr/local/lib/python3.10/dist-packages (from google-auth<3,>=1.6.3->tensorboard<2.16,>=2.15->tensorflow) (5.4.0)\n",
            "Requirement already satisfied: pyasn1-modules>=0.2.1 in /usr/local/lib/python3.10/dist-packages (from google-auth<3,>=1.6.3->tensorboard<2.16,>=2.15->tensorflow) (0.4.0)\n",
            "Requirement already satisfied: rsa<5,>=3.1.4 in /usr/local/lib/python3.10/dist-packages (from google-auth<3,>=1.6.3->tensorboard<2.16,>=2.15->tensorflow) (4.9)\n",
            "Requirement already satisfied: requests-oauthlib>=0.7.0 in /usr/local/lib/python3.10/dist-packages (from google-auth-oauthlib<2,>=0.5->tensorboard<2.16,>=2.15->tensorflow) (1.3.1)\n",
            "Requirement already satisfied: MarkupSafe>=2.1.1 in /usr/local/lib/python3.10/dist-packages (from werkzeug>=1.0.1->tensorboard<2.16,>=2.15->tensorflow) (2.1.5)\n",
            "Requirement already satisfied: pyasn1<0.7.0,>=0.4.6 in /usr/local/lib/python3.10/dist-packages (from pyasn1-modules>=0.2.1->google-auth<3,>=1.6.3->tensorboard<2.16,>=2.15->tensorflow) (0.6.0)\n",
            "Requirement already satisfied: oauthlib>=3.0.0 in /usr/local/lib/python3.10/dist-packages (from requests-oauthlib>=0.7.0->google-auth-oauthlib<2,>=0.5->tensorboard<2.16,>=2.15->tensorflow) (3.2.2)\n"
          ]
        }
      ],
      "source": [
        "!pip install tensorflow numpy pandas yfinance"
      ]
    },
    {
      "cell_type": "code",
      "execution_count": null,
      "metadata": {
        "colab": {
          "base_uri": "https://localhost:8080/"
        },
        "id": "0EVUaM4Mamqp",
        "outputId": "c89446cb-2aa7-405d-f397-f0360258b500"
      },
      "outputs": [
        {
          "name": "stderr",
          "output_type": "stream",
          "text": [
            "\r[*********************100%%**********************]  1 of 1 completed\n"
          ]
        }
      ],
      "source": [
        "import yfinance as yf\n",
        "import pandas as pd\n",
        "import numpy as np\n",
        "from sklearn.preprocessing import MinMaxScaler\n",
        "\n",
        "# Download historical stock data\n",
        "ticker = 'ADANIENSOL.NS'\n",
        "data = yf.download(ticker)\n",
        "prices = data['Close'].values\n",
        "\n",
        "# Normalize the data\n",
        "scaler = MinMaxScaler()\n",
        "prices = scaler.fit_transform(prices.reshape(-1, 1))\n",
        "\n",
        "# Prepare sequences for the CNN-LSTM model\n",
        "def create_sequences(data, seq_length):\n",
        "    X, y = [], []\n",
        "    for i in range(len(data) - seq_length):\n",
        "        X.append(data[i:i + seq_length])\n",
        "        y.append(data[i + seq_length])\n",
        "    return np.array(X), np.array(y)\n",
        "\n",
        "seq_length = 10\n",
        "X, y = create_sequences(prices, seq_length)\n",
        "\n",
        "# Split the data into training and test sets\n",
        "train_size = int(len(X) * 0.8)\n",
        "X_train, X_test = X[:train_size], X[train_size:]\n",
        "y_train, y_test = y[:train_size], y[train_size:]\n",
        "\n",
        "# Reshape X for CNN-LSTM\n",
        "X_train = X_train.reshape((X_train.shape[0], X_train.shape[1], 1))\n",
        "X_test = X_test.reshape((X_test.shape[0], X_test.shape[1], 1))"
      ]
    },
    {
      "cell_type": "code",
      "execution_count": null,
      "metadata": {
        "colab": {
          "base_uri": "https://localhost:8080/"
        },
        "id": "Rm1TiVbwapel",
        "outputId": "162c84fa-ec53-4d83-d06b-28aee551983c"
      },
      "outputs": [
        {
          "name": "stdout",
          "output_type": "stream",
          "text": [
            "Model: \"sequential_1\"\n",
            "_________________________________________________________________\n",
            " Layer (type)                Output Shape              Param #   \n",
            "=================================================================\n",
            " conv1d_1 (Conv1D)           (None, 9, 64)             192       \n",
            "                                                                 \n",
            " max_pooling1d_1 (MaxPoolin  (None, 4, 64)             0         \n",
            " g1D)                                                            \n",
            "                                                                 \n",
            " lstm_1 (LSTM)               (None, 50)                23000     \n",
            "                                                                 \n",
            " dense_1 (Dense)             (None, 1)                 51        \n",
            "                                                                 \n",
            "=================================================================\n",
            "Total params: 23243 (90.79 KB)\n",
            "Trainable params: 23243 (90.79 KB)\n",
            "Non-trainable params: 0 (0.00 Byte)\n",
            "_________________________________________________________________\n"
          ]
        }
      ],
      "source": [
        "import tensorflow as tf\n",
        "from tensorflow.keras.models import Sequential\n",
        "from tensorflow.keras.layers import Conv1D, MaxPooling1D, LSTM, Dense, Flatten\n",
        "\n",
        "model = Sequential()\n",
        "model.add(Conv1D(filters=64, kernel_size=2, activation='relu', input_shape=(seq_length, 1)))\n",
        "model.add(MaxPooling1D(pool_size=2))\n",
        "model.add(LSTM(50, activation='relu'))\n",
        "model.add(Dense(1))\n",
        "\n",
        "model.compile(optimizer='adam', loss='mse', metrics=['mae'])\n",
        "model.summary()\n"
      ]
    },
    {
      "cell_type": "code",
      "execution_count": null,
      "metadata": {
        "colab": {
          "base_uri": "https://localhost:8080/"
        },
        "id": "Cr617VYUas_A",
        "outputId": "aff33a73-1f8d-4ab1-e88a-eda45147041b"
      },
      "outputs": [
        {
          "name": "stdout",
          "output_type": "stream",
          "text": [
            "Epoch 1/50\n",
            "6/6 [==============================] - 4s 89ms/step - loss: 0.3238 - mae: 0.4949 - val_loss: 0.3117 - val_mae: 0.5510\n",
            "Epoch 2/50\n",
            "6/6 [==============================] - 0s 22ms/step - loss: 0.2206 - mae: 0.4028 - val_loss: 0.1968 - val_mae: 0.4347\n",
            "Epoch 3/50\n",
            "6/6 [==============================] - 0s 18ms/step - loss: 0.1333 - mae: 0.3051 - val_loss: 0.0917 - val_mae: 0.2893\n",
            "Epoch 4/50\n",
            "6/6 [==============================] - 0s 28ms/step - loss: 0.0577 - mae: 0.2002 - val_loss: 0.0167 - val_mae: 0.1075\n",
            "Epoch 5/50\n",
            "6/6 [==============================] - 0s 27ms/step - loss: 0.0218 - mae: 0.1147 - val_loss: 0.0215 - val_mae: 0.1166\n",
            "Epoch 6/50\n",
            "6/6 [==============================] - 0s 21ms/step - loss: 0.0302 - mae: 0.1535 - val_loss: 0.0155 - val_mae: 0.0909\n",
            "Epoch 7/50\n",
            "6/6 [==============================] - 0s 27ms/step - loss: 0.0202 - mae: 0.1126 - val_loss: 0.0104 - val_mae: 0.0731\n",
            "Epoch 8/50\n",
            "6/6 [==============================] - 0s 26ms/step - loss: 0.0199 - mae: 0.1091 - val_loss: 0.0135 - val_mae: 0.0933\n",
            "Epoch 9/50\n",
            "6/6 [==============================] - 0s 26ms/step - loss: 0.0192 - mae: 0.1056 - val_loss: 0.0105 - val_mae: 0.0734\n",
            "Epoch 10/50\n",
            "6/6 [==============================] - 0s 29ms/step - loss: 0.0174 - mae: 0.0980 - val_loss: 0.0103 - val_mae: 0.0656\n",
            "Epoch 11/50\n",
            "6/6 [==============================] - 0s 22ms/step - loss: 0.0174 - mae: 0.1003 - val_loss: 0.0103 - val_mae: 0.0653\n",
            "Epoch 12/50\n",
            "6/6 [==============================] - 0s 27ms/step - loss: 0.0167 - mae: 0.0969 - val_loss: 0.0101 - val_mae: 0.0664\n",
            "Epoch 13/50\n",
            "6/6 [==============================] - 0s 17ms/step - loss: 0.0165 - mae: 0.0939 - val_loss: 0.0104 - val_mae: 0.0712\n",
            "Epoch 14/50\n",
            "6/6 [==============================] - 0s 34ms/step - loss: 0.0162 - mae: 0.0926 - val_loss: 0.0102 - val_mae: 0.0674\n",
            "Epoch 15/50\n",
            "6/6 [==============================] - 0s 25ms/step - loss: 0.0160 - mae: 0.0923 - val_loss: 0.0103 - val_mae: 0.0663\n",
            "Epoch 16/50\n",
            "6/6 [==============================] - 0s 20ms/step - loss: 0.0157 - mae: 0.0917 - val_loss: 0.0104 - val_mae: 0.0674\n",
            "Epoch 17/50\n",
            "6/6 [==============================] - 0s 31ms/step - loss: 0.0156 - mae: 0.0901 - val_loss: 0.0107 - val_mae: 0.0711\n",
            "Epoch 18/50\n",
            "6/6 [==============================] - 0s 24ms/step - loss: 0.0153 - mae: 0.0882 - val_loss: 0.0107 - val_mae: 0.0690\n",
            "Epoch 19/50\n",
            "6/6 [==============================] - 0s 31ms/step - loss: 0.0151 - mae: 0.0880 - val_loss: 0.0108 - val_mae: 0.0672\n",
            "Epoch 20/50\n",
            "6/6 [==============================] - 0s 20ms/step - loss: 0.0151 - mae: 0.0875 - val_loss: 0.0109 - val_mae: 0.0702\n",
            "Epoch 21/50\n",
            "6/6 [==============================] - 0s 28ms/step - loss: 0.0147 - mae: 0.0856 - val_loss: 0.0110 - val_mae: 0.0674\n",
            "Epoch 22/50\n",
            "6/6 [==============================] - 0s 32ms/step - loss: 0.0147 - mae: 0.0862 - val_loss: 0.0110 - val_mae: 0.0685\n",
            "Epoch 23/50\n",
            "6/6 [==============================] - 0s 22ms/step - loss: 0.0145 - mae: 0.0849 - val_loss: 0.0111 - val_mae: 0.0694\n",
            "Epoch 24/50\n",
            "6/6 [==============================] - 0s 24ms/step - loss: 0.0143 - mae: 0.0827 - val_loss: 0.0113 - val_mae: 0.0735\n",
            "Epoch 25/50\n",
            "6/6 [==============================] - 0s 30ms/step - loss: 0.0142 - mae: 0.0822 - val_loss: 0.0112 - val_mae: 0.0715\n",
            "Epoch 26/50\n",
            "6/6 [==============================] - 0s 21ms/step - loss: 0.0141 - mae: 0.0825 - val_loss: 0.0113 - val_mae: 0.0686\n",
            "Epoch 27/50\n",
            "6/6 [==============================] - 0s 22ms/step - loss: 0.0139 - mae: 0.0821 - val_loss: 0.0113 - val_mae: 0.0707\n",
            "Epoch 28/50\n",
            "6/6 [==============================] - 0s 27ms/step - loss: 0.0138 - mae: 0.0807 - val_loss: 0.0114 - val_mae: 0.0705\n",
            "Epoch 29/50\n",
            "6/6 [==============================] - 0s 27ms/step - loss: 0.0137 - mae: 0.0802 - val_loss: 0.0114 - val_mae: 0.0709\n",
            "Epoch 30/50\n",
            "6/6 [==============================] - 0s 28ms/step - loss: 0.0135 - mae: 0.0798 - val_loss: 0.0114 - val_mae: 0.0685\n",
            "Epoch 31/50\n",
            "6/6 [==============================] - 0s 20ms/step - loss: 0.0133 - mae: 0.0782 - val_loss: 0.0114 - val_mae: 0.0708\n",
            "Epoch 32/50\n",
            "6/6 [==============================] - 0s 39ms/step - loss: 0.0132 - mae: 0.0788 - val_loss: 0.0114 - val_mae: 0.0688\n",
            "Epoch 33/50\n",
            "6/6 [==============================] - 0s 32ms/step - loss: 0.0129 - mae: 0.0767 - val_loss: 0.0115 - val_mae: 0.0705\n",
            "Epoch 34/50\n",
            "6/6 [==============================] - 0s 31ms/step - loss: 0.0128 - mae: 0.0758 - val_loss: 0.0115 - val_mae: 0.0685\n",
            "Epoch 35/50\n",
            "6/6 [==============================] - 0s 32ms/step - loss: 0.0126 - mae: 0.0752 - val_loss: 0.0115 - val_mae: 0.0674\n",
            "Epoch 36/50\n",
            "6/6 [==============================] - 0s 33ms/step - loss: 0.0126 - mae: 0.0766 - val_loss: 0.0116 - val_mae: 0.0648\n",
            "Epoch 37/50\n",
            "6/6 [==============================] - 0s 25ms/step - loss: 0.0127 - mae: 0.0755 - val_loss: 0.0117 - val_mae: 0.0741\n",
            "Epoch 38/50\n",
            "6/6 [==============================] - 0s 26ms/step - loss: 0.0127 - mae: 0.0766 - val_loss: 0.0119 - val_mae: 0.0635\n",
            "Epoch 39/50\n",
            "6/6 [==============================] - 0s 22ms/step - loss: 0.0124 - mae: 0.0748 - val_loss: 0.0120 - val_mae: 0.0776\n",
            "Epoch 40/50\n",
            "6/6 [==============================] - 0s 20ms/step - loss: 0.0119 - mae: 0.0726 - val_loss: 0.0117 - val_mae: 0.0630\n",
            "Epoch 41/50\n",
            "6/6 [==============================] - 0s 21ms/step - loss: 0.0118 - mae: 0.0746 - val_loss: 0.0115 - val_mae: 0.0649\n",
            "Epoch 42/50\n",
            "6/6 [==============================] - 0s 28ms/step - loss: 0.0117 - mae: 0.0717 - val_loss: 0.0116 - val_mae: 0.0697\n",
            "Epoch 43/50\n",
            "6/6 [==============================] - 0s 42ms/step - loss: 0.0114 - mae: 0.0708 - val_loss: 0.0118 - val_mae: 0.0615\n",
            "Epoch 44/50\n",
            "6/6 [==============================] - 0s 30ms/step - loss: 0.0112 - mae: 0.0712 - val_loss: 0.0116 - val_mae: 0.0709\n",
            "Epoch 45/50\n",
            "6/6 [==============================] - 0s 42ms/step - loss: 0.0113 - mae: 0.0707 - val_loss: 0.0115 - val_mae: 0.0619\n",
            "Epoch 46/50\n",
            "6/6 [==============================] - 0s 31ms/step - loss: 0.0114 - mae: 0.0739 - val_loss: 0.0116 - val_mae: 0.0603\n",
            "Epoch 47/50\n",
            "6/6 [==============================] - 0s 20ms/step - loss: 0.0114 - mae: 0.0706 - val_loss: 0.0119 - val_mae: 0.0725\n",
            "Epoch 48/50\n",
            "6/6 [==============================] - 0s 28ms/step - loss: 0.0106 - mae: 0.0674 - val_loss: 0.0123 - val_mae: 0.0610\n",
            "Epoch 49/50\n",
            "6/6 [==============================] - 0s 41ms/step - loss: 0.0107 - mae: 0.0695 - val_loss: 0.0117 - val_mae: 0.0691\n",
            "Epoch 50/50\n",
            "6/6 [==============================] - 0s 39ms/step - loss: 0.0105 - mae: 0.0681 - val_loss: 0.0116 - val_mae: 0.0603\n"
          ]
        }
      ],
      "source": [
        "history = model.fit(X_train, y_train, epochs=50, batch_size=32, validation_data=(X_test, y_test))"
      ]
    },
    {
      "cell_type": "code",
      "execution_count": null,
      "metadata": {
        "colab": {
          "base_uri": "https://localhost:8080/"
        },
        "id": "GiR7AA3davmm",
        "outputId": "cdd045c8-9cbc-48bf-9432-439996fe7e92"
      },
      "outputs": [
        {
          "name": "stdout",
          "output_type": "stream",
          "text": [
            "1/1 [==============================] - 0s 280ms/step\n",
            "1/1 [==============================] - 0s 34ms/step\n",
            "1/1 [==============================] - 0s 30ms/step\n",
            "1/1 [==============================] - 0s 32ms/step\n",
            "1/1 [==============================] - 0s 29ms/step\n",
            "1/1 [==============================] - 0s 29ms/step\n",
            "1/1 [==============================] - 0s 32ms/step\n",
            "1/1 [==============================] - 0s 32ms/step\n"
          ]
        }
      ],
      "source": [
        "# Function to predict future steps\n",
        "def predict_future_steps(model, data, steps):\n",
        "    predictions = []\n",
        "    input_seq = data[-seq_length:].reshape((1, seq_length, 1))\n",
        "    for _ in range(steps):\n",
        "        pred = model.predict(input_seq)\n",
        "        predictions.append(pred[0, 0])\n",
        "        input_seq = np.append(input_seq[:, 1:, :], pred.reshape(1, 1, 1), axis=1)\n",
        "    return np.array(predictions)\n",
        "\n",
        "# Predict the next day and week prices\n",
        "next_1d_pred = predict_future_steps(model, prices, 1)\n",
        "next_1w_pred = predict_future_steps(model, prices, 7)\n",
        "\n",
        "# Transform the predictions back to the original scale\n",
        "next_1d_pred = scaler.inverse_transform(next_1d_pred.reshape(-1, 1))\n",
        "next_1w_pred = scaler.inverse_transform(next_1w_pred.reshape(-1, 1))"
      ]
    },
    {
      "cell_type": "code",
      "execution_count": null,
      "metadata": {
        "colab": {
          "base_uri": "https://localhost:8080/"
        },
        "id": "hNo70Q2DbHfx",
        "outputId": "36bc77bc-eb90-458c-d94b-f4697709b6a0"
      },
      "outputs": [
        {
          "name": "stdout",
          "output_type": "stream",
          "text": [
            "1-Day Forecast: [1035.9385]\n",
            "1-Week Forecast: [1035.9385 1081.4739 1084.1753 1086.2109 1087.0728 1077.9159 1080.1122]\n"
          ]
        }
      ],
      "source": [
        "print(f'1-Day Forecast: {next_1d_pred.flatten()}')\n",
        "print(f'1-Week Forecast: {next_1w_pred.flatten()}')"
      ]
    }
  ],
  "metadata": {
    "colab": {
      "provenance": []
    },
    "kernelspec": {
      "display_name": "Python 3",
      "name": "python3"
    },
    "language_info": {
      "name": "python"
    }
  },
  "nbformat": 4,
  "nbformat_minor": 0
}
